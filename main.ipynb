{
 "cells": [
  {
   "cell_type": "markdown",
   "metadata": {},
   "source": [
    "### Librerías"
   ]
  },
  {
   "cell_type": "code",
   "execution_count": 1,
   "metadata": {},
   "outputs": [],
   "source": [
    "import sys\n",
    "import cv2\n",
    "import numpy as np\n",
    "from matplotlib import pyplot as plt\n",
    "import imageio\n",
    "import os\n",
    "import skvideo.io #para guardar el video\n",
    "\n"
   ]
  },
  {
   "cell_type": "markdown",
   "metadata": {},
   "source": [
    "### Funciones para mostrar"
   ]
  },
  {
   "cell_type": "code",
   "execution_count": 2,
   "metadata": {},
   "outputs": [],
   "source": [
    "def mostrar_imagen_un_canal(image):\n",
    "\n",
    "  height, width=image.shape\n",
    "  matrix = np.full((height, width,3), 0, dtype=np.uint8)\n",
    "\n",
    "  valor_maximo = np.max(image)\n",
    "\n",
    "  for i in range(height):\n",
    "      for j in range(width):\n",
    "          matrix[i][j][0]=image[i][j]/valor_maximo*255\n",
    "          matrix[i][j][1]=image[i][j]/valor_maximo*255\n",
    "          matrix[i][j][2]=image[i][j]/valor_maximo*255\n",
    "\n",
    "  #plt.imshow(matrix)\n",
    "  return matrix\n",
    "\n",
    "def mostrar_imagen_tres_canales(imagen):\n",
    "  height, width,_=imagen.shape\n",
    "  matrix = np.full((height, width,3), 0, dtype=np.uint8)\n",
    "\n",
    "\n",
    "  valor_maximo0 = np.max(imagen[:, :, 0])\n",
    "  valor_maximo1 = np.max(imagen[:, :, 1])\n",
    "  valor_maximo2 = np.max(imagen[:, :, 2])\n",
    "\n",
    "\n",
    "  for i in range(height):\n",
    "      for j in range(width):\n",
    "          matrix[i][j][0]=imagen[i][j]/valor_maximo0*255\n",
    "          matrix[i][j][1]=imagen[i][j]/valor_maximo1*255\n",
    "          matrix[i][j][2]=imagen[i][j]/valor_maximo2*255\n",
    "  plt.imshow(matrix)\n",
    "\n"
   ]
  },
  {
   "cell_type": "markdown",
   "metadata": {},
   "source": [
    "### Lectura de video"
   ]
  },
  {
   "cell_type": "code",
   "execution_count": 4,
   "metadata": {},
   "outputs": [
    {
     "data": {
      "text/plain": [
       "550"
      ]
     },
     "execution_count": 4,
     "metadata": {},
     "output_type": "execute_result"
    }
   ],
   "source": [
    "\n",
    "ruta_video='D:/Entrada.avi' #ruta del video\n",
    "\n",
    "cap = cv2.VideoCapture(ruta_video) #Se lee el video\n",
    "\n",
    "#cap = cv2.VideoCapture(\"video1_prueba2.mp4\") #Se lee el video\n",
    "frames=[]\n",
    "cont=0\n",
    "while True: #guarda el video en un arreglo de frames\n",
    "    ret,frame=cap.read()\n",
    "    if(ret==True):\n",
    "        frames.append(frame)\n",
    "    else:\n",
    "        break\n",
    "width = int(cap.get(3))  # Ancho del video\n",
    "height = int(cap.get(4))  # Altura del\n",
    "\n",
    "#frame_prueba=cv2.cvtColor(frames[0], cv2.COLOR_BGR2RGB)#frame usado de prueba para la detección de bordes\n",
    "\n",
    "#plt.imshow(frame_prueba)\n",
    "len(frames)\n"
   ]
  },
  {
   "cell_type": "markdown",
   "metadata": {},
   "source": [
    "### Preprocesamiento"
   ]
  },
  {
   "cell_type": "code",
   "execution_count": 5,
   "metadata": {},
   "outputs": [],
   "source": [
    "qcd = cv2.QRCodeDetector()\n",
    "i=0\n",
    "retval, decoded_info, points, straight_qrcode = qcd.detectAndDecodeMulti(frames[i])\n",
    "\n",
    "while(retval==False):\n",
    "    i+=1\n",
    "    retval, decoded_info, points, straight_qrcode = qcd.detectAndDecodeMulti(frames[i])\n",
    "\n",
    "\n",
    "        \n",
    "\n",
    "num_frame_fondo=i-20\n",
    "num_frame_inicio=i+80\n"
   ]
  },
  {
   "cell_type": "code",
   "execution_count": 9,
   "metadata": {},
   "outputs": [],
   "source": [
    "\n",
    "\n",
    "fondo=frames[num_frame_fondo]\n",
    "\n",
    "# Obtener el ancho y alto del video\n",
    "width = int(cap.get(cv2.CAP_PROP_FRAME_WIDTH))\n",
    "height = int(cap.get(cv2.CAP_PROP_FRAME_HEIGHT))\n",
    "\n",
    "\n",
    "\n",
    "salida=skvideo.io.FFmpegWriter('D:/resultado.avi') #agregar ruta de salida\n",
    "\n",
    "for frame in range(num_frame_inicio,len(frames)):\n",
    "\n",
    "    \n",
    "    raton=original=cv2.cvtColor(frames[frame], cv2.COLOR_BGR2RGB) #guarda el frame que será procesado\n",
    "\n",
    "\n",
    "    #hace más chicas las imágenes del fondo y el frame a procesar\n",
    "\n",
    "    fondo=cv2.resize(fondo,(720,480),interpolation = cv2.INTER_AREA)\n",
    "    raton=cv2.resize(raton,(720,480),interpolation = cv2.INTER_AREA)\n",
    "\n",
    "    #Promedio -- suavizado\n",
    "    fondo=cv2.boxFilter(fondo,ddepth=-1,ksize=(5,5),normalize=True)\n",
    "    raton=cv2.boxFilter(raton,ddepth=-1,ksize=(5,5),normalize=True)\n",
    "\n",
    "    height, width,_=fondo.shape\n",
    "    matrix = np.full((height, width), 0, dtype=np.uint8)\n",
    "    #Resta en el canal rojo\n",
    "    for i in range(height):\n",
    "        for j in range(width):\n",
    "            matrix[i][j]=np.abs(np.subtract(raton[i][j][0],fondo[i][j][0]))\n",
    "\n",
    "\n",
    "    imagen=mostrar_imagen_un_canal(matrix)\n",
    "\n",
    "\n",
    "    #filtro morfológico\n",
    "    kernelSize=(9,9)\n",
    "    kernel = cv2.getStructuringElement(cv2.MORPH_RECT, kernelSize)\n",
    "    img=cv2.morphologyEx(imagen, cv2.MORPH_OPEN, kernel)\n",
    "    #img=cv2.morphologyEx(raton, cv2.MORPH_OPEN, kernel)\n",
    "\n",
    "    #Agrandar la imagen\n",
    "    img=cv2.resize(img,(1920,1080),interpolation = cv2.INTER_AREA)\n",
    "\n",
    "    #Umbralización 50%\n",
    "\n",
    "    height, width,_=img.shape\n",
    "\n",
    "    for i in range(height):\n",
    "        for j in range(width):\n",
    "            #img[i][j][1]=0\n",
    "            #img[i][j][2]=0\n",
    "            #Umbral original = 128\n",
    "            if(img[i][j][0]<150):\n",
    "                img[i][j][0]=0\n",
    "            else:\n",
    "                img[i][j][0]=255\n",
    "\n",
    "            if(img[i][j][1]<150):\n",
    "                img[i][j][1]=0\n",
    "            else:\n",
    "                img[i][j][1]=255\n",
    "\n",
    "            if(img[i][j][2]<150):\n",
    "                img[i][j][2]=0\n",
    "            else:\n",
    "                img[i][j][2]=255\n",
    "\n",
    "    \n",
    "    # Guardar el frame procesado en el archivo de video de salida\n",
    "    salida.writeFrame(img)\n",
    "salida.close()\n",
    "\n",
    "\n"
   ]
  }
 ],
 "metadata": {
  "kernelspec": {
   "display_name": "Python 3",
   "language": "python",
   "name": "python3"
  },
  "language_info": {
   "codemirror_mode": {
    "name": "ipython",
    "version": 3
   },
   "file_extension": ".py",
   "mimetype": "text/x-python",
   "name": "python",
   "nbconvert_exporter": "python",
   "pygments_lexer": "ipython3",
   "version": "3.11.2"
  }
 },
 "nbformat": 4,
 "nbformat_minor": 2
}
